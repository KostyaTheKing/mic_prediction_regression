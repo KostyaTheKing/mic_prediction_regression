{
 "cells": [
  {
   "cell_type": "markdown",
   "metadata": {},
   "source": [
    "# Replication of results from \"Prediction of ceftriaxone MIC in <i>Neisseria gonorrhoeae</i> using DNA microarray technology and regression analysis\" in Python"
   ]
  },
  {
   "cell_type": "markdown",
   "metadata": {},
   "source": [
    "&emsp;In the original paper \"Prediction of ceftriaxone MIC in <i>Neisseria gonorrhoeae</i> using DNA microarray technology and regression analysis\" (https://doi.org/10.1093/jac/dkab308) minimal inhibitory concentration (MIC) prediction is carried out in R. I set myself a goal to replicate the results using Python. The main objective of the work is to train a linear regression model that would be capable of prediciting MIC of ceftriaxone based on mutations present in N. gonorrhoeae genome."
   ]
  },
  {
   "cell_type": "markdown",
   "metadata": {},
   "source": [
    "## Data analysis and preprocessing"
   ]
  },
  {
   "cell_type": "code",
   "execution_count": 136,
   "metadata": {
    "id": "CxT8gw2eRgpX"
   },
   "outputs": [],
   "source": [
    "import numpy as np\n",
    "import pandas as pd\n",
    "import matplotlib.pyplot as plt\n",
    "import seaborn as sns\n",
    "import missingno as mnso"
   ]
  },
  {
   "cell_type": "markdown",
   "metadata": {},
   "source": [
    "&emsp;Loading the data with pandas:"
   ]
  },
  {
   "cell_type": "code",
   "execution_count": 137,
   "metadata": {
    "colab": {
     "base_uri": "https://localhost:8080/",
     "height": 304
    },
    "id": "rHsmKt4rRudc",
    "outputId": "6bff863d-88d3-458f-e704-4b6b2d6d2c4c"
   },
   "outputs": [
    {
     "data": {
      "text/html": [
       "<div>\n",
       "<style scoped>\n",
       "    .dataframe tbody tr th:only-of-type {\n",
       "        vertical-align: middle;\n",
       "    }\n",
       "\n",
       "    .dataframe tbody tr th {\n",
       "        vertical-align: top;\n",
       "    }\n",
       "\n",
       "    .dataframe thead th {\n",
       "        text-align: right;\n",
       "    }\n",
       "</style>\n",
       "<table border=\"1\" class=\"dataframe\">\n",
       "  <thead>\n",
       "    <tr style=\"text-align: right;\">\n",
       "      <th></th>\n",
       "      <th>penA allele</th>\n",
       "      <th>Name</th>\n",
       "      <th>Date</th>\n",
       "      <th>Collection</th>\n",
       "      <th>Country</th>\n",
       "      <th>Ceftriaxone MIC, mg/L</th>\n",
       "      <th>Ala311Val</th>\n",
       "      <th>Ile312Met</th>\n",
       "      <th>Val316Thr</th>\n",
       "      <th>insAsp(345-346)</th>\n",
       "      <th>...</th>\n",
       "      <th>Gly120Lys</th>\n",
       "      <th>Gly120Arg</th>\n",
       "      <th>Ala121Gly</th>\n",
       "      <th>Ala121Ser</th>\n",
       "      <th>Ala121Asp</th>\n",
       "      <th>Ala121Asn</th>\n",
       "      <th>Ala121Val</th>\n",
       "      <th>Ala121Arg</th>\n",
       "      <th>Leu421Pro</th>\n",
       "      <th>-35delA</th>\n",
       "    </tr>\n",
       "    <tr>\n",
       "      <th>#</th>\n",
       "      <th></th>\n",
       "      <th></th>\n",
       "      <th></th>\n",
       "      <th></th>\n",
       "      <th></th>\n",
       "      <th></th>\n",
       "      <th></th>\n",
       "      <th></th>\n",
       "      <th></th>\n",
       "      <th></th>\n",
       "      <th></th>\n",
       "      <th></th>\n",
       "      <th></th>\n",
       "      <th></th>\n",
       "      <th></th>\n",
       "      <th></th>\n",
       "      <th></th>\n",
       "      <th></th>\n",
       "      <th></th>\n",
       "      <th></th>\n",
       "      <th></th>\n",
       "    </tr>\n",
       "  </thead>\n",
       "  <tbody>\n",
       "    <tr>\n",
       "      <th>1</th>\n",
       "      <td>100.001</td>\n",
       "      <td>SRR1661159</td>\n",
       "      <td>2001</td>\n",
       "      <td>demczuk2015</td>\n",
       "      <td>Canada</td>\n",
       "      <td>0.00025</td>\n",
       "      <td>0</td>\n",
       "      <td>0</td>\n",
       "      <td>0</td>\n",
       "      <td>0</td>\n",
       "      <td>...</td>\n",
       "      <td>0</td>\n",
       "      <td>0</td>\n",
       "      <td>1</td>\n",
       "      <td>0</td>\n",
       "      <td>0</td>\n",
       "      <td>0</td>\n",
       "      <td>0</td>\n",
       "      <td>0</td>\n",
       "      <td>0</td>\n",
       "      <td>0</td>\n",
       "    </tr>\n",
       "    <tr>\n",
       "      <th>2</th>\n",
       "      <td>100.001</td>\n",
       "      <td>SRR1661178</td>\n",
       "      <td>2005</td>\n",
       "      <td>demczuk2015</td>\n",
       "      <td>Canada</td>\n",
       "      <td>0.00050</td>\n",
       "      <td>0</td>\n",
       "      <td>0</td>\n",
       "      <td>0</td>\n",
       "      <td>0</td>\n",
       "      <td>...</td>\n",
       "      <td>0</td>\n",
       "      <td>0</td>\n",
       "      <td>1</td>\n",
       "      <td>0</td>\n",
       "      <td>0</td>\n",
       "      <td>0</td>\n",
       "      <td>0</td>\n",
       "      <td>0</td>\n",
       "      <td>0</td>\n",
       "      <td>0</td>\n",
       "    </tr>\n",
       "    <tr>\n",
       "      <th>3</th>\n",
       "      <td>100.001</td>\n",
       "      <td>SRR1661264</td>\n",
       "      <td>2010</td>\n",
       "      <td>demczuk2015</td>\n",
       "      <td>Canada</td>\n",
       "      <td>0.00050</td>\n",
       "      <td>0</td>\n",
       "      <td>0</td>\n",
       "      <td>0</td>\n",
       "      <td>0</td>\n",
       "      <td>...</td>\n",
       "      <td>0</td>\n",
       "      <td>0</td>\n",
       "      <td>1</td>\n",
       "      <td>0</td>\n",
       "      <td>0</td>\n",
       "      <td>0</td>\n",
       "      <td>0</td>\n",
       "      <td>0</td>\n",
       "      <td>0</td>\n",
       "      <td>0</td>\n",
       "    </tr>\n",
       "    <tr>\n",
       "      <th>4</th>\n",
       "      <td>22.001</td>\n",
       "      <td>SRR1661260</td>\n",
       "      <td>2010</td>\n",
       "      <td>demczuk2015</td>\n",
       "      <td>Canada</td>\n",
       "      <td>0.00050</td>\n",
       "      <td>0</td>\n",
       "      <td>0</td>\n",
       "      <td>0</td>\n",
       "      <td>1</td>\n",
       "      <td>...</td>\n",
       "      <td>0</td>\n",
       "      <td>0</td>\n",
       "      <td>0</td>\n",
       "      <td>0</td>\n",
       "      <td>0</td>\n",
       "      <td>0</td>\n",
       "      <td>0</td>\n",
       "      <td>0</td>\n",
       "      <td>0</td>\n",
       "      <td>0</td>\n",
       "    </tr>\n",
       "    <tr>\n",
       "      <th>5</th>\n",
       "      <td>15.001</td>\n",
       "      <td>ECDC_T2_ES012</td>\n",
       "      <td>2013</td>\n",
       "      <td>eurogasp2013</td>\n",
       "      <td>Estonia</td>\n",
       "      <td>0.00070</td>\n",
       "      <td>0</td>\n",
       "      <td>0</td>\n",
       "      <td>0</td>\n",
       "      <td>0</td>\n",
       "      <td>...</td>\n",
       "      <td>0</td>\n",
       "      <td>0</td>\n",
       "      <td>0</td>\n",
       "      <td>0</td>\n",
       "      <td>0</td>\n",
       "      <td>0</td>\n",
       "      <td>0</td>\n",
       "      <td>0</td>\n",
       "      <td>0</td>\n",
       "      <td>0</td>\n",
       "    </tr>\n",
       "  </tbody>\n",
       "</table>\n",
       "<p>5 rows × 31 columns</p>\n",
       "</div>"
      ],
      "text/plain": [
       "   penA allele           Name  Date    Collection  Country  \\\n",
       "#                                                            \n",
       "1      100.001     SRR1661159  2001   demczuk2015   Canada   \n",
       "2      100.001     SRR1661178  2005   demczuk2015   Canada   \n",
       "3      100.001     SRR1661264  2010   demczuk2015   Canada   \n",
       "4       22.001     SRR1661260  2010   demczuk2015   Canada   \n",
       "5       15.001  ECDC_T2_ES012  2013  eurogasp2013  Estonia   \n",
       "\n",
       "   Ceftriaxone MIC, mg/L  Ala311Val  Ile312Met  Val316Thr  insAsp(345-346)  \\\n",
       "#                                                                            \n",
       "1                0.00025          0          0          0                0   \n",
       "2                0.00050          0          0          0                0   \n",
       "3                0.00050          0          0          0                0   \n",
       "4                0.00050          0          0          0                1   \n",
       "5                0.00070          0          0          0                0   \n",
       "\n",
       "   ...  Gly120Lys  Gly120Arg  Ala121Gly  Ala121Ser  Ala121Asp  Ala121Asn  \\\n",
       "#  ...                                                                     \n",
       "1  ...          0          0          1          0          0          0   \n",
       "2  ...          0          0          1          0          0          0   \n",
       "3  ...          0          0          1          0          0          0   \n",
       "4  ...          0          0          0          0          0          0   \n",
       "5  ...          0          0          0          0          0          0   \n",
       "\n",
       "   Ala121Val  Ala121Arg  Leu421Pro  -35delA  \n",
       "#                                            \n",
       "1          0          0          0        0  \n",
       "2          0          0          0        0  \n",
       "3          0          0          0        0  \n",
       "4          0          0          0        0  \n",
       "5          0          0          0        0  \n",
       "\n",
       "[5 rows x 31 columns]"
      ]
     },
     "execution_count": 137,
     "metadata": {},
     "output_type": "execute_result"
    }
   ],
   "source": [
    "df = pd.read_excel(\"./Table_S1.xlsx\", header=3, index_col=0)\n",
    "df.head()"
   ]
  },
  {
   "cell_type": "code",
   "execution_count": 138,
   "metadata": {},
   "outputs": [
    {
     "name": "stdout",
     "output_type": "stream",
     "text": [
      "<class 'pandas.core.frame.DataFrame'>\n",
      "Index: 5812 entries, 1 to 5812\n",
      "Data columns (total 31 columns):\n",
      " #   Column                 Non-Null Count  Dtype  \n",
      "---  ------                 --------------  -----  \n",
      " 0   penA allele            5812 non-null   float64\n",
      " 1   Name                   5812 non-null   object \n",
      " 2   Date                   5812 non-null   object \n",
      " 3   Collection             5812 non-null   object \n",
      " 4   Country                5812 non-null   object \n",
      " 5   Ceftriaxone MIC, mg/L  5812 non-null   float64\n",
      " 6   Ala311Val              5812 non-null   int64  \n",
      " 7   Ile312Met              5812 non-null   int64  \n",
      " 8   Val316Thr              5812 non-null   int64  \n",
      " 9   insAsp(345-346)        5812 non-null   int64  \n",
      " 10  Thr483Ser              5812 non-null   int64  \n",
      " 11  Ala501Val              5812 non-null   int64  \n",
      " 12  Ala501Thr              5812 non-null   int64  \n",
      " 13  Ala501Pro              5812 non-null   int64  \n",
      " 14  Asn512Tyr              5812 non-null   int64  \n",
      " 15  Gly542Ser              5812 non-null   int64  \n",
      " 16  Gly545Ser              5812 non-null   int64  \n",
      " 17  Pro551Leu              5812 non-null   int64  \n",
      " 18  Pro551Ser              5812 non-null   int64  \n",
      " 19  Gly120Asn              5812 non-null   int64  \n",
      " 20  Gly120Asp              5812 non-null   int64  \n",
      " 21  Gly120Lys              5812 non-null   int64  \n",
      " 22  Gly120Arg              5812 non-null   int64  \n",
      " 23  Ala121Gly              5812 non-null   int64  \n",
      " 24  Ala121Ser              5812 non-null   int64  \n",
      " 25  Ala121Asp              5812 non-null   int64  \n",
      " 26  Ala121Asn              5812 non-null   int64  \n",
      " 27  Ala121Val              5812 non-null   int64  \n",
      " 28  Ala121Arg              5812 non-null   int64  \n",
      " 29  Leu421Pro              5812 non-null   int64  \n",
      " 30  -35delA                5812 non-null   int64  \n",
      "dtypes: float64(2), int64(25), object(4)\n",
      "memory usage: 1.4+ MB\n"
     ]
    }
   ],
   "source": [
    "df.info()"
   ]
  },
  {
   "cell_type": "markdown",
   "metadata": {},
   "source": [
    "The DataFrame contained 5812 rows and 31 columns:<br>\n",
    "- penA allele - type of penA allele designated by a number (categorical variable);<br>\n",
    "- Name - SRA Run Id;<br>\n",
    "- Date - the year when the data was uploaded;<br>\n",
    "- Collection - name of the collection from which the data comes from;<br>\n",
    "- Country - origin of the isolate;<br>\n",
    "- Ceftriaxone MIC, mg/L - minimal inhibitory concentration of ceftriaxone in mg/L (float);<br>\n",
    "- Ala311Val...-35delA - mutations in N. gonorrhoeae genome that are responsible for resistance (boolean).<br>"
   ]
  },
  {
   "cell_type": "code",
   "execution_count": 139,
   "metadata": {},
   "outputs": [],
   "source": [
    "# Delete duplicate rows\n",
    "df = df.drop_duplicates()"
   ]
  },
  {
   "cell_type": "markdown",
   "metadata": {},
   "source": [
    "Among 5812 rows there were 95 duplicates. These were definitely duplicates as they shared the same SRA Run Id. The remaining amount of rows is 5717."
   ]
  },
  {
   "cell_type": "code",
   "execution_count": null,
   "metadata": {},
   "outputs": [
    {
     "data": {
      "text/plain": [
       "Text(0.5, 1.0, 'Matrix of missing values')"
      ]
     },
     "execution_count": 140,
     "metadata": {},
     "output_type": "execute_result"
    },
    {
     "data": {
      "image/png": "[encoded data removed]",
      "text/plain": [
       "<Figure size 629.921x393.701 with 1 Axes>"
      ]
     },
     "metadata": {},
     "output_type": "display_data"
    }
   ],
   "source": [
    "cm = 1 / 2.54  # cm to inches conversion\n",
    "fig, ax = plt.subplots(1, 1, figsize=(16 * cm, 10 * cm))\n",
    "mnso.matrix(df, ax=ax, fontsize=8, sparkline=False)\n",
    "plt.title(\"Matrix of missing values\")"
   ]
  },
  {
   "cell_type": "markdown",
   "metadata": {},
   "source": [
    "As we can see, the dataset contains no missing values."
   ]
  },
  {
   "cell_type": "markdown",
   "metadata": {},
   "source": [
    "To train a model we need features (columns: Ala311Val...-35delA) and a target variable (column: Ceftriaxone MIC, mg/L). The other columns were not used in the analysis in the paper."
   ]
  },
  {
   "cell_type": "code",
   "execution_count": 141,
   "metadata": {
    "id": "A-CF_NAJqR0N"
   },
   "outputs": [
    {
     "data": {
      "text/html": [
       "<div>\n",
       "<style scoped>\n",
       "    .dataframe tbody tr th:only-of-type {\n",
       "        vertical-align: middle;\n",
       "    }\n",
       "\n",
       "    .dataframe tbody tr th {\n",
       "        vertical-align: top;\n",
       "    }\n",
       "\n",
       "    .dataframe thead th {\n",
       "        text-align: right;\n",
       "    }\n",
       "</style>\n",
       "<table border=\"1\" class=\"dataframe\">\n",
       "  <thead>\n",
       "    <tr style=\"text-align: right;\">\n",
       "      <th></th>\n",
       "      <th>cft_mic</th>\n",
       "      <th>Ala311Val</th>\n",
       "      <th>Ile312Met</th>\n",
       "      <th>Val316Thr</th>\n",
       "      <th>insAsp(345-346)</th>\n",
       "      <th>Thr483Ser</th>\n",
       "      <th>Ala501Val</th>\n",
       "      <th>Ala501Thr</th>\n",
       "      <th>Ala501Pro</th>\n",
       "      <th>Asn512Tyr</th>\n",
       "      <th>...</th>\n",
       "      <th>Gly120Lys</th>\n",
       "      <th>Gly120Arg</th>\n",
       "      <th>Ala121Gly</th>\n",
       "      <th>Ala121Ser</th>\n",
       "      <th>Ala121Asp</th>\n",
       "      <th>Ala121Asn</th>\n",
       "      <th>Ala121Val</th>\n",
       "      <th>Ala121Arg</th>\n",
       "      <th>Leu421Pro</th>\n",
       "      <th>-35delA</th>\n",
       "    </tr>\n",
       "    <tr>\n",
       "      <th>#</th>\n",
       "      <th></th>\n",
       "      <th></th>\n",
       "      <th></th>\n",
       "      <th></th>\n",
       "      <th></th>\n",
       "      <th></th>\n",
       "      <th></th>\n",
       "      <th></th>\n",
       "      <th></th>\n",
       "      <th></th>\n",
       "      <th></th>\n",
       "      <th></th>\n",
       "      <th></th>\n",
       "      <th></th>\n",
       "      <th></th>\n",
       "      <th></th>\n",
       "      <th></th>\n",
       "      <th></th>\n",
       "      <th></th>\n",
       "      <th></th>\n",
       "      <th></th>\n",
       "    </tr>\n",
       "  </thead>\n",
       "  <tbody>\n",
       "    <tr>\n",
       "      <th>1</th>\n",
       "      <td>0.00025</td>\n",
       "      <td>0</td>\n",
       "      <td>0</td>\n",
       "      <td>0</td>\n",
       "      <td>0</td>\n",
       "      <td>0</td>\n",
       "      <td>0</td>\n",
       "      <td>0</td>\n",
       "      <td>0</td>\n",
       "      <td>0</td>\n",
       "      <td>...</td>\n",
       "      <td>0</td>\n",
       "      <td>0</td>\n",
       "      <td>1</td>\n",
       "      <td>0</td>\n",
       "      <td>0</td>\n",
       "      <td>0</td>\n",
       "      <td>0</td>\n",
       "      <td>0</td>\n",
       "      <td>0</td>\n",
       "      <td>0</td>\n",
       "    </tr>\n",
       "    <tr>\n",
       "      <th>2</th>\n",
       "      <td>0.00050</td>\n",
       "      <td>0</td>\n",
       "      <td>0</td>\n",
       "      <td>0</td>\n",
       "      <td>0</td>\n",
       "      <td>0</td>\n",
       "      <td>0</td>\n",
       "      <td>0</td>\n",
       "      <td>0</td>\n",
       "      <td>0</td>\n",
       "      <td>...</td>\n",
       "      <td>0</td>\n",
       "      <td>0</td>\n",
       "      <td>1</td>\n",
       "      <td>0</td>\n",
       "      <td>0</td>\n",
       "      <td>0</td>\n",
       "      <td>0</td>\n",
       "      <td>0</td>\n",
       "      <td>0</td>\n",
       "      <td>0</td>\n",
       "    </tr>\n",
       "    <tr>\n",
       "      <th>3</th>\n",
       "      <td>0.00050</td>\n",
       "      <td>0</td>\n",
       "      <td>0</td>\n",
       "      <td>0</td>\n",
       "      <td>0</td>\n",
       "      <td>0</td>\n",
       "      <td>0</td>\n",
       "      <td>0</td>\n",
       "      <td>0</td>\n",
       "      <td>0</td>\n",
       "      <td>...</td>\n",
       "      <td>0</td>\n",
       "      <td>0</td>\n",
       "      <td>1</td>\n",
       "      <td>0</td>\n",
       "      <td>0</td>\n",
       "      <td>0</td>\n",
       "      <td>0</td>\n",
       "      <td>0</td>\n",
       "      <td>0</td>\n",
       "      <td>0</td>\n",
       "    </tr>\n",
       "    <tr>\n",
       "      <th>4</th>\n",
       "      <td>0.00050</td>\n",
       "      <td>0</td>\n",
       "      <td>0</td>\n",
       "      <td>0</td>\n",
       "      <td>1</td>\n",
       "      <td>0</td>\n",
       "      <td>0</td>\n",
       "      <td>0</td>\n",
       "      <td>0</td>\n",
       "      <td>0</td>\n",
       "      <td>...</td>\n",
       "      <td>0</td>\n",
       "      <td>0</td>\n",
       "      <td>0</td>\n",
       "      <td>0</td>\n",
       "      <td>0</td>\n",
       "      <td>0</td>\n",
       "      <td>0</td>\n",
       "      <td>0</td>\n",
       "      <td>0</td>\n",
       "      <td>0</td>\n",
       "    </tr>\n",
       "    <tr>\n",
       "      <th>5</th>\n",
       "      <td>0.00070</td>\n",
       "      <td>0</td>\n",
       "      <td>0</td>\n",
       "      <td>0</td>\n",
       "      <td>0</td>\n",
       "      <td>0</td>\n",
       "      <td>0</td>\n",
       "      <td>0</td>\n",
       "      <td>0</td>\n",
       "      <td>0</td>\n",
       "      <td>...</td>\n",
       "      <td>0</td>\n",
       "      <td>0</td>\n",
       "      <td>0</td>\n",
       "      <td>0</td>\n",
       "      <td>0</td>\n",
       "      <td>0</td>\n",
       "      <td>0</td>\n",
       "      <td>0</td>\n",
       "      <td>0</td>\n",
       "      <td>0</td>\n",
       "    </tr>\n",
       "  </tbody>\n",
       "</table>\n",
       "<p>5 rows × 26 columns</p>\n",
       "</div>"
      ],
      "text/plain": [
       "   cft_mic  Ala311Val  Ile312Met  Val316Thr  insAsp(345-346)  Thr483Ser  \\\n",
       "#                                                                         \n",
       "1  0.00025          0          0          0                0          0   \n",
       "2  0.00050          0          0          0                0          0   \n",
       "3  0.00050          0          0          0                0          0   \n",
       "4  0.00050          0          0          0                1          0   \n",
       "5  0.00070          0          0          0                0          0   \n",
       "\n",
       "   Ala501Val  Ala501Thr  Ala501Pro  Asn512Tyr  ...  Gly120Lys  Gly120Arg  \\\n",
       "#                                              ...                         \n",
       "1          0          0          0          0  ...          0          0   \n",
       "2          0          0          0          0  ...          0          0   \n",
       "3          0          0          0          0  ...          0          0   \n",
       "4          0          0          0          0  ...          0          0   \n",
       "5          0          0          0          0  ...          0          0   \n",
       "\n",
       "   Ala121Gly  Ala121Ser  Ala121Asp  Ala121Asn  Ala121Val  Ala121Arg  \\\n",
       "#                                                                     \n",
       "1          1          0          0          0          0          0   \n",
       "2          1          0          0          0          0          0   \n",
       "3          1          0          0          0          0          0   \n",
       "4          0          0          0          0          0          0   \n",
       "5          0          0          0          0          0          0   \n",
       "\n",
       "   Leu421Pro  -35delA  \n",
       "#                      \n",
       "1          0        0  \n",
       "2          0        0  \n",
       "3          0        0  \n",
       "4          0        0  \n",
       "5          0        0  \n",
       "\n",
       "[5 rows x 26 columns]"
      ]
     },
     "execution_count": 141,
     "metadata": {},
     "output_type": "execute_result"
    }
   ],
   "source": [
    "# Dropping columns that were not used in the analysis.\n",
    "df = df.drop(axis=1, columns=df.columns[range(5)])\n",
    "\n",
    "# Renaming target variable for the ease of use.\n",
    "df = df.rename({\"Ceftriaxone MIC, mg/L\": \"cft_mic\"}, axis=1)\n",
    "df.head()"
   ]
  },
  {
   "cell_type": "code",
   "execution_count": 142,
   "metadata": {
    "colab": {
     "base_uri": "https://localhost:8080/"
    },
    "id": "ke0GH2ylSIp9",
    "outputId": "24866e83-b540-4208-ac08-63abe2cac8a0"
   },
   "outputs": [],
   "source": [
    "# Changing variable type (less memory usage).\n",
    "df.iloc[:, 1:] = df.iloc[:, 1:].astype(\"Int8\")"
   ]
  },
  {
   "cell_type": "code",
   "execution_count": 143,
   "metadata": {},
   "outputs": [
    {
     "name": "stdout",
     "output_type": "stream",
     "text": [
      "<class 'pandas.core.frame.DataFrame'>\n",
      "Index: 5717 entries, 1 to 5812\n",
      "Data columns (total 26 columns):\n",
      " #   Column           Non-Null Count  Dtype  \n",
      "---  ------           --------------  -----  \n",
      " 0   cft_mic          5717 non-null   float64\n",
      " 1   Ala311Val        5717 non-null   int64  \n",
      " 2   Ile312Met        5717 non-null   int64  \n",
      " 3   Val316Thr        5717 non-null   int64  \n",
      " 4   insAsp(345-346)  5717 non-null   int64  \n",
      " 5   Thr483Ser        5717 non-null   int64  \n",
      " 6   Ala501Val        5717 non-null   int64  \n",
      " 7   Ala501Thr        5717 non-null   int64  \n",
      " 8   Ala501Pro        5717 non-null   int64  \n",
      " 9   Asn512Tyr        5717 non-null   int64  \n",
      " 10  Gly542Ser        5717 non-null   int64  \n",
      " 11  Gly545Ser        5717 non-null   int64  \n",
      " 12  Pro551Leu        5717 non-null   int64  \n",
      " 13  Pro551Ser        5717 non-null   int64  \n",
      " 14  Gly120Asn        5717 non-null   int64  \n",
      " 15  Gly120Asp        5717 non-null   int64  \n",
      " 16  Gly120Lys        5717 non-null   int64  \n",
      " 17  Gly120Arg        5717 non-null   int64  \n",
      " 18  Ala121Gly        5717 non-null   int64  \n",
      " 19  Ala121Ser        5717 non-null   int64  \n",
      " 20  Ala121Asp        5717 non-null   int64  \n",
      " 21  Ala121Asn        5717 non-null   int64  \n",
      " 22  Ala121Val        5717 non-null   int64  \n",
      " 23  Ala121Arg        5717 non-null   int64  \n",
      " 24  Leu421Pro        5717 non-null   int64  \n",
      " 25  -35delA          5717 non-null   int64  \n",
      "dtypes: float64(1), int64(25)\n",
      "memory usage: 1.2 MB\n"
     ]
    }
   ],
   "source": [
    "df.info()"
   ]
  },
  {
   "cell_type": "code",
   "execution_count": 144,
   "metadata": {},
   "outputs": [],
   "source": [
    "df = df.reset_index(drop=True)  # Reset index (duplicate columns were dropped)."
   ]
  },
  {
   "cell_type": "code",
   "execution_count": 145,
   "metadata": {
    "colab": {
     "base_uri": "https://localhost:8080/"
    },
    "id": "H8Xww6PUmr_h",
    "outputId": "c4edf5f0-b7a1-4c40-8615-1758b68a7e8d"
   },
   "outputs": [],
   "source": [
    "y = df.iloc[:, 0]  # Target variable.\n",
    "\n",
    "X = df.iloc[:, 1:]  # Features."
   ]
  },
  {
   "cell_type": "markdown",
   "metadata": {},
   "source": [
    "It is a good idea to analyse target variable distribution before training a model."
   ]
  },
  {
   "cell_type": "code",
   "execution_count": 147,
   "metadata": {},
   "outputs": [
    {
     "data": {
      "image/png": "[encoded data removed]",
      "text/plain": [
       "<Figure size 640x480 with 1 Axes>"
      ]
     },
     "metadata": {},
     "output_type": "display_data"
    }
   ],
   "source": [
    "sns.histplot(y)\n",
    "plt.title(\"Ceftriaxone MIC distribution\")\n",
    "plt.xlabel(\"Ceftriaxone MIC, mg/L\")\n",
    "plt.vlines(x=[0.125], ymin=0, ymax=4000, colors=\"black\", linestyles=\"dashed\")\n",
    "plt.annotate(\n",
    "    \"\",\n",
    "    xytext=(0.500, 2000),\n",
    "    xy=(0.125, 2000),\n",
    "    arrowprops=dict(arrowstyle=\"->\"),\n",
    "    horizontalalignment=\"center\",\n",
    "    verticalalignment=\"bottom\",\n",
    ")\n",
    "plt.text(s=\"MIC breakpoint\", x=0.17, y=2100)\n",
    "plt.ylim((0, 3000))\n",
    "plt.show()"
   ]
  },
  {
   "cell_type": "markdown",
   "metadata": {},
   "source": [
    "As we can see most of the observations lie before the MIC breakpoint (black dashed line at 0.125 mg/L). A few data points of resistant isolates are found after the breakpoint. It is certain that the distribution is not normal (right-skewed) and for that reason the target variable should be transformed (for this case log transformation would be appropriate)."
   ]
  },
  {
   "cell_type": "code",
   "execution_count": 148,
   "metadata": {},
   "outputs": [
    {
     "data": {
      "image/png": "[encoded data removed]",
      "text/plain": [
       "<Figure size 640x480 with 1 Axes>"
      ]
     },
     "metadata": {},
     "output_type": "display_data"
    }
   ],
   "source": [
    "sns.histplot(np.log2(y))\n",
    "plt.title(\"Ceftriaxone MIC distribution\")\n",
    "plt.xlabel(\"log2(Ceftriaxone MIC)\")\n",
    "plt.show()"
   ]
  },
  {
   "cell_type": "markdown",
   "metadata": {},
   "source": [
    "Now the data looks more bell-shaped. Now linear regression can be used on this data."
   ]
  },
  {
   "cell_type": "markdown",
   "metadata": {},
   "source": [
    "## Training linear regression model"
   ]
  },
  {
   "cell_type": "code",
   "execution_count": 234,
   "metadata": {},
   "outputs": [
    {
     "name": "stdout",
     "output_type": "stream",
     "text": [
      "(4287, 25) (1430, 25) (4287,) (1430,)\n"
     ]
    }
   ],
   "source": [
    "from sklearn.model_selection import train_test_split\n",
    "\n",
    "# Splitting dataset into training (75%) and test (25%) data.\n",
    "X_train, X_test, y_train, y_test = train_test_split(\n",
    "    X, y, test_size=0.25, random_state=8798\n",
    ")\n",
    "\n",
    "print(X_train.shape, X_test.shape, y_train.shape, y_test.shape)"
   ]
  },
  {
   "cell_type": "code",
   "execution_count": 323,
   "metadata": {},
   "outputs": [],
   "source": [
    "from sklearn.linear_model import LinearRegression\n",
    "from sklearn.pipeline import Pipeline\n",
    "from sklearn.impute import SimpleImputer\n",
    "from sklearn.compose import TransformedTargetRegressor, ColumnTransformer\n",
    "\n",
    "# Exctract feature names.\n",
    "features = X.columns\n",
    "\n",
    "# Impute missing values in case they will be encountered during prediction.\n",
    "preprocessor = ColumnTransformer(\n",
    "    transformers=[(\"imputer\", SimpleImputer(strategy=\"most_frequent\"), features)]\n",
    ")\n",
    "\n",
    "# Transform target variable with log2.\n",
    "target_transformation_regression = TransformedTargetRegressor(\n",
    "    regressor=LinearRegression(),\n",
    "    func=lambda x: np.log2(x),\n",
    "    inverse_func=lambda x: np.exp2(x),\n",
    ")\n",
    "\n",
    "# Creating a pipeline with preprocessor and regression steps.\n",
    "linear_model = Pipeline(\n",
    "    steps=[\n",
    "        (\"preprocessor\", preprocessor),\n",
    "        (\"linear_regression\", target_transformation_regression),\n",
    "    ]\n",
    ")"
   ]
  },
  {
   "cell_type": "code",
   "execution_count": 325,
   "metadata": {},
   "outputs": [
    {
     "name": "stdout",
     "output_type": "stream",
     "text": [
      "\n"
     ]
    }
   ],
   "source": [
    "# Fit data.\n",
    "linear_model.fit(X_train, y_train)\n",
    "print()"
   ]
  },
  {
   "cell_type": "code",
   "execution_count": 239,
   "metadata": {},
   "outputs": [],
   "source": [
    "from sklearn.metrics import r2_score, mean_squared_error\n",
    "\n",
    "\n",
    "def print_statistics(y_true_train, X_train, y_true_test, X_test, model):\n",
    "    \"\"\"\n",
    "    A function to calculate R² and MSE for train and test data.\n",
    "    \"\"\"\n",
    "    print(f\"Train statistics: \")\n",
    "    print(\"R² = {:.4f}\".format(r2_score(y_true_train, model.predict(X_train))))\n",
    "    print(\n",
    "        \"MSE = {:.4e}\".format(mean_squared_error(y_true_train, model.predict(X_train)))\n",
    "    )\n",
    "    print()\n",
    "    print(f\"Test statistics: \")\n",
    "    print(\"R² = {:.4f}\".format(r2_score(y_true_test, model.predict(X_test))))\n",
    "    print(\"MSE = {:.4e}\".format(mean_squared_error(y_true_test, model.predict(X_test))))\n",
    "    print()"
   ]
  },
  {
   "cell_type": "code",
   "execution_count": 241,
   "metadata": {},
   "outputs": [
    {
     "name": "stdout",
     "output_type": "stream",
     "text": [
      "Train statistics: \n",
      "R² = 0.8462\n",
      "MSE = 5.8080e-04\n",
      "\n",
      "Test statistics: \n",
      "R² = 0.7059\n",
      "MSE = 3.0906e-04\n",
      "\n"
     ]
    }
   ],
   "source": [
    "# Statistics of the trained model.\n",
    "print_statistics(y_train, X_train, y_test, X_test, linear_model)"
   ]
  },
  {
   "cell_type": "markdown",
   "metadata": {},
   "source": [
    "From calculated statistics we can see that a linear regression with log2 transformation is not ideal but it gives moderately good resulsts. Let's see the coefficients of the model:"
   ]
  },
  {
   "cell_type": "code",
   "execution_count": 280,
   "metadata": {},
   "outputs": [
    {
     "data": {
      "text/html": [
       "<div>\n",
       "<style scoped>\n",
       "    .dataframe tbody tr th:only-of-type {\n",
       "        vertical-align: middle;\n",
       "    }\n",
       "\n",
       "    .dataframe tbody tr th {\n",
       "        vertical-align: top;\n",
       "    }\n",
       "\n",
       "    .dataframe thead th {\n",
       "        text-align: right;\n",
       "    }\n",
       "</style>\n",
       "<table border=\"1\" class=\"dataframe\">\n",
       "  <thead>\n",
       "    <tr style=\"text-align: right;\">\n",
       "      <th></th>\n",
       "      <th>Coefficients</th>\n",
       "    </tr>\n",
       "  </thead>\n",
       "  <tbody>\n",
       "    <tr>\n",
       "      <th>Ala501Pro</th>\n",
       "      <td>5.211000</td>\n",
       "    </tr>\n",
       "    <tr>\n",
       "      <th>Gly120Arg</th>\n",
       "      <td>2.117484</td>\n",
       "    </tr>\n",
       "    <tr>\n",
       "      <th>Ala311Val</th>\n",
       "      <td>1.662172</td>\n",
       "    </tr>\n",
       "    <tr>\n",
       "      <th>Thr483Ser</th>\n",
       "      <td>1.662172</td>\n",
       "    </tr>\n",
       "    <tr>\n",
       "      <th>Gly545Ser</th>\n",
       "      <td>1.656373</td>\n",
       "    </tr>\n",
       "    <tr>\n",
       "      <th>insAsp(345-346)</th>\n",
       "      <td>1.333320</td>\n",
       "    </tr>\n",
       "    <tr>\n",
       "      <th>Gly542Ser</th>\n",
       "      <td>1.242723</td>\n",
       "    </tr>\n",
       "    <tr>\n",
       "      <th>Ala501Val</th>\n",
       "      <td>1.226636</td>\n",
       "    </tr>\n",
       "    <tr>\n",
       "      <th>Gly120Lys</th>\n",
       "      <td>1.204336</td>\n",
       "    </tr>\n",
       "    <tr>\n",
       "      <th>Pro551Ser</th>\n",
       "      <td>1.021032</td>\n",
       "    </tr>\n",
       "    <tr>\n",
       "      <th>Ala121Val</th>\n",
       "      <td>-0.959558</td>\n",
       "    </tr>\n",
       "    <tr>\n",
       "      <th>Pro551Leu</th>\n",
       "      <td>0.744049</td>\n",
       "    </tr>\n",
       "    <tr>\n",
       "      <th>Ala501Thr</th>\n",
       "      <td>0.710691</td>\n",
       "    </tr>\n",
       "    <tr>\n",
       "      <th>Asn512Tyr</th>\n",
       "      <td>0.670171</td>\n",
       "    </tr>\n",
       "    <tr>\n",
       "      <th>Gly120Asn</th>\n",
       "      <td>0.610457</td>\n",
       "    </tr>\n",
       "    <tr>\n",
       "      <th>Val316Thr</th>\n",
       "      <td>0.531650</td>\n",
       "    </tr>\n",
       "    <tr>\n",
       "      <th>Ile312Met</th>\n",
       "      <td>0.531650</td>\n",
       "    </tr>\n",
       "    <tr>\n",
       "      <th>Gly120Asp</th>\n",
       "      <td>0.500875</td>\n",
       "    </tr>\n",
       "    <tr>\n",
       "      <th>Ala121Arg</th>\n",
       "      <td>0.439970</td>\n",
       "    </tr>\n",
       "    <tr>\n",
       "      <th>Ala121Gly</th>\n",
       "      <td>-0.274222</td>\n",
       "    </tr>\n",
       "    <tr>\n",
       "      <th>Ala121Ser</th>\n",
       "      <td>0.239992</td>\n",
       "    </tr>\n",
       "    <tr>\n",
       "      <th>Leu421Pro</th>\n",
       "      <td>0.139063</td>\n",
       "    </tr>\n",
       "    <tr>\n",
       "      <th>Ala121Asp</th>\n",
       "      <td>-0.074335</td>\n",
       "    </tr>\n",
       "    <tr>\n",
       "      <th>Ala121Asn</th>\n",
       "      <td>0.039008</td>\n",
       "    </tr>\n",
       "    <tr>\n",
       "      <th>-35delA</th>\n",
       "      <td>-0.033247</td>\n",
       "    </tr>\n",
       "  </tbody>\n",
       "</table>\n",
       "</div>"
      ],
      "text/plain": [
       "                 Coefficients\n",
       "Ala501Pro            5.211000\n",
       "Gly120Arg            2.117484\n",
       "Ala311Val            1.662172\n",
       "Thr483Ser            1.662172\n",
       "Gly545Ser            1.656373\n",
       "insAsp(345-346)      1.333320\n",
       "Gly542Ser            1.242723\n",
       "Ala501Val            1.226636\n",
       "Gly120Lys            1.204336\n",
       "Pro551Ser            1.021032\n",
       "Ala121Val           -0.959558\n",
       "Pro551Leu            0.744049\n",
       "Ala501Thr            0.710691\n",
       "Asn512Tyr            0.670171\n",
       "Gly120Asn            0.610457\n",
       "Val316Thr            0.531650\n",
       "Ile312Met            0.531650\n",
       "Gly120Asp            0.500875\n",
       "Ala121Arg            0.439970\n",
       "Ala121Gly           -0.274222\n",
       "Ala121Ser            0.239992\n",
       "Leu421Pro            0.139063\n",
       "Ala121Asp           -0.074335\n",
       "Ala121Asn            0.039008\n",
       "-35delA             -0.033247"
      ]
     },
     "execution_count": 280,
     "metadata": {},
     "output_type": "execute_result"
    }
   ],
   "source": [
    "coefficients = pd.DataFrame(\n",
    "    linear_model[1].regressor_.coef_, columns=[\"Coefficients\"], index=features\n",
    ")\n",
    "coefficients.sort_values(by=\"Coefficients\", key=lambda x: abs(x), ascending=False)"
   ]
  },
  {
   "cell_type": "markdown",
   "metadata": {},
   "source": [
    "It is better to visualise our coefficients using horizontal barplot:"
   ]
  },
  {
   "cell_type": "code",
   "execution_count": 297,
   "metadata": {},
   "outputs": [
    {
     "data": {
      "image/png": "[encoded data removed]",
      "text/plain": [
       "<Figure size 640x480 with 1 Axes>"
      ]
     },
     "metadata": {},
     "output_type": "display_data"
    }
   ],
   "source": [
    "coefficients.sort_values(by=\"Coefficients\").plot.barh(\n",
    "    legend=False,\n",
    "    xlabel=\"Coefficient value, mg/L\",\n",
    "    ylabel=\"Coefficient name\",\n",
    "    title=\"Horizontal barplot of linear regression coefficients\",\n",
    ")\n",
    "plt.grid(alpha=0.5)\n",
    "plt.show()"
   ]
  },
  {
   "cell_type": "markdown",
   "metadata": {},
   "source": [
    "Horizontal barplot shows clearly that there are variables that strongly affect MIC of ceftriaxone like: Ala501Pro, Gly120Arg, Thr483Ser, Gly545Ser, insAsp(345-346), Gly542Ser, Ala501Val, Gly120Lys, Pro551Ser, Ala121Val. There are also variables that have almost no effect on the target variable like: Ala121Asp, -35delA, Ala121Asn, Leu421Pro, Ala121Ser, Ala121Gly. Other variables moderately affect the target variable."
   ]
  },
  {
   "cell_type": "markdown",
   "metadata": {},
   "source": [
    "We can try to remove variables that have no effect on the target variable and retrain the model."
   ]
  },
  {
   "cell_type": "markdown",
   "metadata": {},
   "source": [
    "## Retrain model with less variables"
   ]
  },
  {
   "cell_type": "code",
   "execution_count": 326,
   "metadata": {},
   "outputs": [],
   "source": [
    "features_reduced = [\n",
    "    i\n",
    "    for i in X.columns\n",
    "    if i\n",
    "    not in [\"Ala121Asp\", \"-35delA\", \"Ala121Asn\", \"Leu421Pro\", \"Ala121Ser\", \"Ala121Gly\"]\n",
    "]\n",
    "\n",
    "# Impute missing values in case they will be encountered during prediction.\n",
    "preprocessor_reduced = ColumnTransformer(\n",
    "    transformers=[\n",
    "        (\"imputer\", SimpleImputer(strategy=\"most_frequent\"), features_reduced)\n",
    "    ]\n",
    ")\n",
    "\n",
    "# Creating a pipeline with preprocessor and regression steps.\n",
    "linear_model_reduced = Pipeline(\n",
    "    steps=[\n",
    "        (\"preprocessor\", preprocessor_reduced),\n",
    "        (\"linear_regression\", target_transformation_regression),\n",
    "    ]\n",
    ")"
   ]
  },
  {
   "cell_type": "code",
   "execution_count": 327,
   "metadata": {},
   "outputs": [
    {
     "name": "stdout",
     "output_type": "stream",
     "text": [
      "\n"
     ]
    }
   ],
   "source": [
    "linear_model_reduced.fit(X_train[features_reduced], y_train)\n",
    "print()"
   ]
  },
  {
   "cell_type": "code",
   "execution_count": 314,
   "metadata": {},
   "outputs": [
    {
     "name": "stdout",
     "output_type": "stream",
     "text": [
      "Train statistics: \n",
      "R² = 0.8461\n",
      "MSE = 5.8110e-04\n",
      "\n",
      "Test statistics: \n",
      "R² = 0.7048\n",
      "MSE = 3.1019e-04\n",
      "\n"
     ]
    }
   ],
   "source": [
    "print_statistics(\n",
    "    y_train,\n",
    "    X_train[features_reduced],\n",
    "    y_test,\n",
    "    X_test[features_reduced],\n",
    "    linear_model_reduced,\n",
    ")"
   ]
  },
  {
   "cell_type": "markdown",
   "metadata": {},
   "source": [
    "Let's compare the results of the original and the new model with reduced amount of variables:<br>\n",
    "1) Train statistics:<br>\n",
    "> Origianl: R² = 0.8462 | New: R² = 0.8461;<br>\n",
    "> Origianl: MSE = 5.8080e-04 | New: MSE = 5.8110e-04.<br>\n",
    "Train statistics remained largely the same.<br>\n",
    "\n",
    "2) Test statistics:<br>\n",
    "> Origianl: R² = 0.7059 | New: R² = 0.7048;<br>\n",
    "> Origianl: MSE = 3.0906e-04 | New: MSE = 3.1019e-04.<br>\n",
    "Test statistics remained largely the same.<br>\n",
    "\n",
    "We can conclude that removed variables were not important for the linear regression model."
   ]
  },
  {
   "cell_type": "markdown",
   "metadata": {},
   "source": [
    "## The model proposed in the paper"
   ]
  },
  {
   "cell_type": "markdown",
   "metadata": {},
   "source": [
    "In the original paper the Akaike information criterion was used to determine unimportant variables. Features that were removed are: Val316Thr, Thr483Ser, Ala121Asn, Ala121Arg, -35delA (only -35delA and Ala121Asn were both removed from my model and from the author's model).<br>\n",
    "Now I will train and test the proposed model and compare it to the model that I previously trained."
   ]
  },
  {
   "cell_type": "code",
   "execution_count": 328,
   "metadata": {},
   "outputs": [],
   "source": [
    "features_paper = [\n",
    "    i\n",
    "    for i in X.columns\n",
    "    if i not in [\"Val316Thr\", \"Thr483Ser\", \"Ala121Asn\", \"Ala121Arg\", \"-35delA\"]\n",
    "]\n",
    "\n",
    "# Impute missing values in case they will be encountered during prediction.\n",
    "preprocessor_paper = ColumnTransformer(\n",
    "    transformers=[(\"imputer\", SimpleImputer(strategy=\"most_frequent\"), features_paper)]\n",
    ")\n",
    "\n",
    "# Creating a pipeline with preprocessor and regression steps.\n",
    "linear_model_paper = Pipeline(\n",
    "    steps=[\n",
    "        (\"preprocessor\", preprocessor_paper),\n",
    "        (\"linear_regression\", target_transformation_regression),\n",
    "    ]\n",
    ")"
   ]
  },
  {
   "cell_type": "code",
   "execution_count": 329,
   "metadata": {},
   "outputs": [
    {
     "name": "stdout",
     "output_type": "stream",
     "text": [
      "\n"
     ]
    }
   ],
   "source": [
    "linear_model_paper.fit(X_train[features_paper], y_train)\n",
    "print()"
   ]
  },
  {
   "cell_type": "code",
   "execution_count": 318,
   "metadata": {},
   "outputs": [
    {
     "name": "stdout",
     "output_type": "stream",
     "text": [
      "Train statistics: \n",
      "R² = 0.8461\n",
      "MSE = 5.8098e-04\n",
      "\n",
      "Test statistics: \n",
      "R² = 0.7060\n",
      "MSE = 3.0896e-04\n",
      "\n"
     ]
    }
   ],
   "source": [
    "print_statistics(\n",
    "    y_train, X_train[features_paper], y_test, X_test[features_paper], linear_model_paper\n",
    ")"
   ]
  },
  {
   "cell_type": "code",
   "execution_count": 321,
   "metadata": {},
   "outputs": [
    {
     "data": {
      "text/html": [
       "<div>\n",
       "<style scoped>\n",
       "    .dataframe tbody tr th:only-of-type {\n",
       "        vertical-align: middle;\n",
       "    }\n",
       "\n",
       "    .dataframe tbody tr th {\n",
       "        vertical-align: top;\n",
       "    }\n",
       "\n",
       "    .dataframe thead th {\n",
       "        text-align: right;\n",
       "    }\n",
       "</style>\n",
       "<table border=\"1\" class=\"dataframe\">\n",
       "  <thead>\n",
       "    <tr style=\"text-align: right;\">\n",
       "      <th></th>\n",
       "      <th>Coefficients</th>\n",
       "    </tr>\n",
       "  </thead>\n",
       "  <tbody>\n",
       "    <tr>\n",
       "      <th>Ala501Pro</th>\n",
       "      <td>5.209523</td>\n",
       "    </tr>\n",
       "    <tr>\n",
       "      <th>Ala311Val</th>\n",
       "      <td>3.322759</td>\n",
       "    </tr>\n",
       "    <tr>\n",
       "      <th>Gly120Arg</th>\n",
       "      <td>2.446465</td>\n",
       "    </tr>\n",
       "    <tr>\n",
       "      <th>Gly545Ser</th>\n",
       "      <td>1.654285</td>\n",
       "    </tr>\n",
       "    <tr>\n",
       "      <th>insAsp(345-346)</th>\n",
       "      <td>1.333082</td>\n",
       "    </tr>\n",
       "    <tr>\n",
       "      <th>Gly542Ser</th>\n",
       "      <td>1.243511</td>\n",
       "    </tr>\n",
       "    <tr>\n",
       "      <th>Gly120Lys</th>\n",
       "      <td>1.234166</td>\n",
       "    </tr>\n",
       "    <tr>\n",
       "      <th>Ala501Val</th>\n",
       "      <td>1.225806</td>\n",
       "    </tr>\n",
       "    <tr>\n",
       "      <th>Ile312Met</th>\n",
       "      <td>1.061330</td>\n",
       "    </tr>\n",
       "    <tr>\n",
       "      <th>Pro551Ser</th>\n",
       "      <td>1.017283</td>\n",
       "    </tr>\n",
       "    <tr>\n",
       "      <th>Ala121Val</th>\n",
       "      <td>-0.982810</td>\n",
       "    </tr>\n",
       "    <tr>\n",
       "      <th>Pro551Leu</th>\n",
       "      <td>0.743698</td>\n",
       "    </tr>\n",
       "    <tr>\n",
       "      <th>Ala501Thr</th>\n",
       "      <td>0.706470</td>\n",
       "    </tr>\n",
       "    <tr>\n",
       "      <th>Asn512Tyr</th>\n",
       "      <td>0.670467</td>\n",
       "    </tr>\n",
       "    <tr>\n",
       "      <th>Gly120Asn</th>\n",
       "      <td>0.633672</td>\n",
       "    </tr>\n",
       "    <tr>\n",
       "      <th>Gly120Asp</th>\n",
       "      <td>0.510602</td>\n",
       "    </tr>\n",
       "    <tr>\n",
       "      <th>Ala121Gly</th>\n",
       "      <td>-0.281977</td>\n",
       "    </tr>\n",
       "    <tr>\n",
       "      <th>Ala121Ser</th>\n",
       "      <td>0.238801</td>\n",
       "    </tr>\n",
       "    <tr>\n",
       "      <th>Leu421Pro</th>\n",
       "      <td>0.119956</td>\n",
       "    </tr>\n",
       "    <tr>\n",
       "      <th>Ala121Asp</th>\n",
       "      <td>-0.113236</td>\n",
       "    </tr>\n",
       "  </tbody>\n",
       "</table>\n",
       "</div>"
      ],
      "text/plain": [
       "                 Coefficients\n",
       "Ala501Pro            5.209523\n",
       "Ala311Val            3.322759\n",
       "Gly120Arg            2.446465\n",
       "Gly545Ser            1.654285\n",
       "insAsp(345-346)      1.333082\n",
       "Gly542Ser            1.243511\n",
       "Gly120Lys            1.234166\n",
       "Ala501Val            1.225806\n",
       "Ile312Met            1.061330\n",
       "Pro551Ser            1.017283\n",
       "Ala121Val           -0.982810\n",
       "Pro551Leu            0.743698\n",
       "Ala501Thr            0.706470\n",
       "Asn512Tyr            0.670467\n",
       "Gly120Asn            0.633672\n",
       "Gly120Asp            0.510602\n",
       "Ala121Gly           -0.281977\n",
       "Ala121Ser            0.238801\n",
       "Leu421Pro            0.119956\n",
       "Ala121Asp           -0.113236"
      ]
     },
     "execution_count": 321,
     "metadata": {},
     "output_type": "execute_result"
    }
   ],
   "source": [
    "coefficients_paper = pd.DataFrame(\n",
    "    linear_model_paper[1].regressor_.coef_,\n",
    "    columns=[\"Coefficients\"],\n",
    "    index=features_paper,\n",
    ")\n",
    "coefficients_paper.sort_values(by=\"Coefficients\", key=lambda x: abs(x), ascending=False)"
   ]
  },
  {
   "cell_type": "markdown",
   "metadata": {},
   "source": [
    "The coefficients obtained are almost identical to the ones calculated in the article (dew to the nature of randomness in training)."
   ]
  },
  {
   "cell_type": "markdown",
   "metadata": {},
   "source": [
    "Let's compare the results of the original and the new model with reduced amount of variables:<br>\n",
    "1) Train statistics:<br>\n",
    "> Paper model: R² = 0.8461 | My model: R² = 0.8461;<br>\n",
    "> Paper model: MSE = 5.8098e-04 | My model: MSE = 5.8110e-04.<br>\n",
    "Train statistics is almost the same.<br>\n",
    "\n",
    "2) Test statistics:<br>\n",
    "> Paper model: R² = 0.7060 | My model: R² = 0.7048;<br>\n",
    "> Paper model: MSE = 3.0896e-04 | My model: MSE = 3.1019e-04.<br>\n",
    "Test statistics is almost the same.<br>\n",
    "\n",
    "We can see that the models perfrom equally well with almost identical R² coefficients and MSE. This tells us that linear regression model might not be the optimal one since even with differen variables present the result stays largely the same."
   ]
  },
  {
   "cell_type": "markdown",
   "metadata": {},
   "source": [
    "## Conclusion"
   ]
  },
  {
   "cell_type": "markdown",
   "metadata": {},
   "source": [
    "1) In this work a dataset from https://doi.org/10.1093/jac/dkab308 was analysed. There were found 95 duplicate rows in the dataset which reduced the amount of observations from 5812 to 5717. No missing values were found.<br>\n",
    "2) The target variable in the dataset was non-normally distributed (right-skewed). Log2 transformation was used to make the distribution look more bell-shaped.<br>\n",
    "3) The first trained model with no features deleted performed pretty well with moderately high R² coefficient and low MSE on training and test data (Train statistics: R² = 0.8462, MSE = 5.8080e-04 | Test statistics: R² = 0.7059, MSE = 3.0906e-04).<br>\n",
    "4) The model with reduced amount of features performed as good as the first model (Train statistics: R² = 0.8461, MSE = 5.8110e-04 | Test statistics: R² = 0.7048, MSE = 3.1019e-04).<br>\n",
    "5) The model proposed in the paper performed as well as my models (Train statistics: R² = 0.8461,MSE = 5.8098e-04 | Test statistics: R² = 0.7060, MSE = 3.1019e-04).<br>\n",
    "6) The proposed model coefficients were almost identical to the ones calculated in the article (dew to the nature of randomness in the training process).<br>\n",
    "7) It could be speculated that the linear regression model is not ideal for this type of problem since removing different coefficients results in largely the same model behaviour. On top of that not all of the genetic determinants of resistance are found leading to an acceptable R² coefficient value (<0.9).\n"
   ]
  }
 ],
 "metadata": {
  "colab": {
   "provenance": []
  },
  "kernelspec": {
   "display_name": ".venv",
   "language": "python",
   "name": "python3"
  },
  "language_info": {
   "codemirror_mode": {
    "name": "ipython",
    "version": 3
   },
   "file_extension": ".py",
   "mimetype": "text/x-python",
   "name": "python",
   "nbconvert_exporter": "python",
   "pygments_lexer": "ipython3",
   "version": "3.12.4"
  }
 },
 "nbformat": 4,
 "nbformat_minor": 0
}
